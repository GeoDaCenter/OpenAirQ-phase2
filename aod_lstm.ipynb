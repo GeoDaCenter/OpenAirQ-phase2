{
 "cells": [
  {
   "cell_type": "code",
   "execution_count": 97,
   "metadata": {},
   "outputs": [],
   "source": [
    "import pandas as pd\n",
    "import numpy as np\n",
    "\n",
    "from tqdm import tqdm\n",
    "from tensorflow.keras import Sequential\n",
    "from tensorflow.keras.layers import Input, LSTM, Dense, Dropout, Bidirectional\n",
    "from matplotlib import pyplot as plt"
   ]
  },
  {
   "cell_type": "code",
   "execution_count": 49,
   "metadata": {},
   "outputs": [
    {
     "data": {
      "text/html": [
       "<div>\n",
       "<style scoped>\n",
       "    .dataframe tbody tr th:only-of-type {\n",
       "        vertical-align: middle;\n",
       "    }\n",
       "\n",
       "    .dataframe tbody tr th {\n",
       "        vertical-align: top;\n",
       "    }\n",
       "\n",
       "    .dataframe thead th {\n",
       "        text-align: right;\n",
       "    }\n",
       "</style>\n",
       "<table border=\"1\" class=\"dataframe\">\n",
       "  <thead>\n",
       "    <tr style=\"text-align: right;\">\n",
       "      <th></th>\n",
       "      <th>Wk_1_2014</th>\n",
       "      <th>Wk_2_2014</th>\n",
       "      <th>Wk_3_2014</th>\n",
       "      <th>Wk_4_2014</th>\n",
       "      <th>Wk_5_2014</th>\n",
       "      <th>Wk_6_2014</th>\n",
       "      <th>Wk_7_2014</th>\n",
       "      <th>Wk_8_2014</th>\n",
       "      <th>Wk_9_2014</th>\n",
       "      <th>Wk_10_2014</th>\n",
       "      <th>...</th>\n",
       "      <th>Wk_44_2018</th>\n",
       "      <th>Wk_45_2018</th>\n",
       "      <th>Wk_46_2018</th>\n",
       "      <th>Wk_47_2018</th>\n",
       "      <th>Wk_48_2018</th>\n",
       "      <th>Wk_49_2018</th>\n",
       "      <th>Wk_50_2018</th>\n",
       "      <th>Wk_51_2018</th>\n",
       "      <th>Wk_52_2018</th>\n",
       "      <th>Wk_53_2018</th>\n",
       "    </tr>\n",
       "  </thead>\n",
       "  <tbody>\n",
       "    <tr>\n",
       "      <th>0</th>\n",
       "      <td>NaN</td>\n",
       "      <td>NaN</td>\n",
       "      <td>NaN</td>\n",
       "      <td>NaN</td>\n",
       "      <td>NaN</td>\n",
       "      <td>NaN</td>\n",
       "      <td>NaN</td>\n",
       "      <td>NaN</td>\n",
       "      <td>NaN</td>\n",
       "      <td>NaN</td>\n",
       "      <td>...</td>\n",
       "      <td>NaN</td>\n",
       "      <td>NaN</td>\n",
       "      <td>NaN</td>\n",
       "      <td>NaN</td>\n",
       "      <td>NaN</td>\n",
       "      <td>NaN</td>\n",
       "      <td>NaN</td>\n",
       "      <td>NaN</td>\n",
       "      <td>NaN</td>\n",
       "      <td>NaN</td>\n",
       "    </tr>\n",
       "    <tr>\n",
       "      <th>1</th>\n",
       "      <td>NaN</td>\n",
       "      <td>NaN</td>\n",
       "      <td>NaN</td>\n",
       "      <td>NaN</td>\n",
       "      <td>NaN</td>\n",
       "      <td>NaN</td>\n",
       "      <td>NaN</td>\n",
       "      <td>NaN</td>\n",
       "      <td>NaN</td>\n",
       "      <td>NaN</td>\n",
       "      <td>...</td>\n",
       "      <td>NaN</td>\n",
       "      <td>NaN</td>\n",
       "      <td>NaN</td>\n",
       "      <td>NaN</td>\n",
       "      <td>NaN</td>\n",
       "      <td>NaN</td>\n",
       "      <td>NaN</td>\n",
       "      <td>NaN</td>\n",
       "      <td>NaN</td>\n",
       "      <td>NaN</td>\n",
       "    </tr>\n",
       "    <tr>\n",
       "      <th>2</th>\n",
       "      <td>NaN</td>\n",
       "      <td>NaN</td>\n",
       "      <td>NaN</td>\n",
       "      <td>NaN</td>\n",
       "      <td>NaN</td>\n",
       "      <td>NaN</td>\n",
       "      <td>NaN</td>\n",
       "      <td>NaN</td>\n",
       "      <td>NaN</td>\n",
       "      <td>NaN</td>\n",
       "      <td>...</td>\n",
       "      <td>NaN</td>\n",
       "      <td>NaN</td>\n",
       "      <td>NaN</td>\n",
       "      <td>NaN</td>\n",
       "      <td>NaN</td>\n",
       "      <td>NaN</td>\n",
       "      <td>NaN</td>\n",
       "      <td>NaN</td>\n",
       "      <td>NaN</td>\n",
       "      <td>NaN</td>\n",
       "    </tr>\n",
       "    <tr>\n",
       "      <th>3</th>\n",
       "      <td>NaN</td>\n",
       "      <td>NaN</td>\n",
       "      <td>NaN</td>\n",
       "      <td>NaN</td>\n",
       "      <td>NaN</td>\n",
       "      <td>NaN</td>\n",
       "      <td>NaN</td>\n",
       "      <td>NaN</td>\n",
       "      <td>NaN</td>\n",
       "      <td>NaN</td>\n",
       "      <td>...</td>\n",
       "      <td>NaN</td>\n",
       "      <td>NaN</td>\n",
       "      <td>NaN</td>\n",
       "      <td>NaN</td>\n",
       "      <td>NaN</td>\n",
       "      <td>NaN</td>\n",
       "      <td>NaN</td>\n",
       "      <td>NaN</td>\n",
       "      <td>NaN</td>\n",
       "      <td>NaN</td>\n",
       "    </tr>\n",
       "    <tr>\n",
       "      <th>4</th>\n",
       "      <td>NaN</td>\n",
       "      <td>NaN</td>\n",
       "      <td>NaN</td>\n",
       "      <td>NaN</td>\n",
       "      <td>NaN</td>\n",
       "      <td>NaN</td>\n",
       "      <td>NaN</td>\n",
       "      <td>NaN</td>\n",
       "      <td>NaN</td>\n",
       "      <td>NaN</td>\n",
       "      <td>...</td>\n",
       "      <td>NaN</td>\n",
       "      <td>NaN</td>\n",
       "      <td>NaN</td>\n",
       "      <td>NaN</td>\n",
       "      <td>NaN</td>\n",
       "      <td>NaN</td>\n",
       "      <td>NaN</td>\n",
       "      <td>NaN</td>\n",
       "      <td>NaN</td>\n",
       "      <td>NaN</td>\n",
       "    </tr>\n",
       "  </tbody>\n",
       "</table>\n",
       "<p>5 rows × 264 columns</p>\n",
       "</div>"
      ],
      "text/plain": [
       "   Wk_1_2014  Wk_2_2014  Wk_3_2014  Wk_4_2014  Wk_5_2014  Wk_6_2014  \\\n",
       "0        NaN        NaN        NaN        NaN        NaN        NaN   \n",
       "1        NaN        NaN        NaN        NaN        NaN        NaN   \n",
       "2        NaN        NaN        NaN        NaN        NaN        NaN   \n",
       "3        NaN        NaN        NaN        NaN        NaN        NaN   \n",
       "4        NaN        NaN        NaN        NaN        NaN        NaN   \n",
       "\n",
       "   Wk_7_2014  Wk_8_2014  Wk_9_2014  Wk_10_2014  ...  Wk_44_2018  Wk_45_2018  \\\n",
       "0        NaN        NaN        NaN         NaN  ...         NaN         NaN   \n",
       "1        NaN        NaN        NaN         NaN  ...         NaN         NaN   \n",
       "2        NaN        NaN        NaN         NaN  ...         NaN         NaN   \n",
       "3        NaN        NaN        NaN         NaN  ...         NaN         NaN   \n",
       "4        NaN        NaN        NaN         NaN  ...         NaN         NaN   \n",
       "\n",
       "   Wk_46_2018  Wk_47_2018  Wk_48_2018  Wk_49_2018  Wk_50_2018  Wk_51_2018  \\\n",
       "0         NaN         NaN         NaN         NaN         NaN         NaN   \n",
       "1         NaN         NaN         NaN         NaN         NaN         NaN   \n",
       "2         NaN         NaN         NaN         NaN         NaN         NaN   \n",
       "3         NaN         NaN         NaN         NaN         NaN         NaN   \n",
       "4         NaN         NaN         NaN         NaN         NaN         NaN   \n",
       "\n",
       "   Wk_52_2018  Wk_53_2018  \n",
       "0         NaN         NaN  \n",
       "1         NaN         NaN  \n",
       "2         NaN         NaN  \n",
       "3         NaN         NaN  \n",
       "4         NaN         NaN  \n",
       "\n",
       "[5 rows x 264 columns]"
      ]
     },
     "execution_count": 49,
     "metadata": {},
     "output_type": "execute_result"
    }
   ],
   "source": [
    "data = pd.read_csv(\"AOD_series.csv\")\n",
    "data.head()"
   ]
  },
  {
   "cell_type": "code",
   "execution_count": 79,
   "metadata": {},
   "outputs": [
    {
     "data": {
      "text/html": [
       "<div>\n",
       "<style scoped>\n",
       "    .dataframe tbody tr th:only-of-type {\n",
       "        vertical-align: middle;\n",
       "    }\n",
       "\n",
       "    .dataframe tbody tr th {\n",
       "        vertical-align: top;\n",
       "    }\n",
       "\n",
       "    .dataframe thead th {\n",
       "        text-align: right;\n",
       "    }\n",
       "</style>\n",
       "<table border=\"1\" class=\"dataframe\">\n",
       "  <thead>\n",
       "    <tr style=\"text-align: right;\">\n",
       "      <th></th>\n",
       "      <th>Wk_1_2014</th>\n",
       "      <th>Wk_2_2014</th>\n",
       "      <th>Wk_3_2014</th>\n",
       "      <th>Wk_4_2014</th>\n",
       "      <th>Wk_5_2014</th>\n",
       "      <th>Wk_6_2014</th>\n",
       "      <th>Wk_7_2014</th>\n",
       "      <th>Wk_8_2014</th>\n",
       "      <th>Wk_9_2014</th>\n",
       "      <th>Wk_10_2014</th>\n",
       "      <th>...</th>\n",
       "      <th>Wk_44_2018</th>\n",
       "      <th>Wk_45_2018</th>\n",
       "      <th>Wk_46_2018</th>\n",
       "      <th>Wk_47_2018</th>\n",
       "      <th>Wk_48_2018</th>\n",
       "      <th>Wk_49_2018</th>\n",
       "      <th>Wk_50_2018</th>\n",
       "      <th>Wk_51_2018</th>\n",
       "      <th>Wk_52_2018</th>\n",
       "      <th>Wk_53_2018</th>\n",
       "    </tr>\n",
       "  </thead>\n",
       "  <tbody>\n",
       "    <tr>\n",
       "      <th>422</th>\n",
       "      <td>NaN</td>\n",
       "      <td>NaN</td>\n",
       "      <td>NaN</td>\n",
       "      <td>NaN</td>\n",
       "      <td>NaN</td>\n",
       "      <td>NaN</td>\n",
       "      <td>NaN</td>\n",
       "      <td>NaN</td>\n",
       "      <td>NaN</td>\n",
       "      <td>NaN</td>\n",
       "      <td>...</td>\n",
       "      <td>NaN</td>\n",
       "      <td>NaN</td>\n",
       "      <td>0.205000</td>\n",
       "      <td>NaN</td>\n",
       "      <td>0.184122</td>\n",
       "      <td>NaN</td>\n",
       "      <td>0.406391</td>\n",
       "      <td>0.136056</td>\n",
       "      <td>0.204676</td>\n",
       "      <td>NaN</td>\n",
       "    </tr>\n",
       "    <tr>\n",
       "      <th>423</th>\n",
       "      <td>NaN</td>\n",
       "      <td>NaN</td>\n",
       "      <td>NaN</td>\n",
       "      <td>NaN</td>\n",
       "      <td>NaN</td>\n",
       "      <td>NaN</td>\n",
       "      <td>NaN</td>\n",
       "      <td>NaN</td>\n",
       "      <td>NaN</td>\n",
       "      <td>NaN</td>\n",
       "      <td>...</td>\n",
       "      <td>NaN</td>\n",
       "      <td>NaN</td>\n",
       "      <td>NaN</td>\n",
       "      <td>NaN</td>\n",
       "      <td>0.174868</td>\n",
       "      <td>NaN</td>\n",
       "      <td>0.405219</td>\n",
       "      <td>0.117110</td>\n",
       "      <td>0.197330</td>\n",
       "      <td>NaN</td>\n",
       "    </tr>\n",
       "    <tr>\n",
       "      <th>424</th>\n",
       "      <td>NaN</td>\n",
       "      <td>NaN</td>\n",
       "      <td>NaN</td>\n",
       "      <td>NaN</td>\n",
       "      <td>NaN</td>\n",
       "      <td>NaN</td>\n",
       "      <td>NaN</td>\n",
       "      <td>NaN</td>\n",
       "      <td>NaN</td>\n",
       "      <td>NaN</td>\n",
       "      <td>...</td>\n",
       "      <td>NaN</td>\n",
       "      <td>NaN</td>\n",
       "      <td>0.090549</td>\n",
       "      <td>NaN</td>\n",
       "      <td>0.169360</td>\n",
       "      <td>NaN</td>\n",
       "      <td>0.396316</td>\n",
       "      <td>0.108810</td>\n",
       "      <td>0.174159</td>\n",
       "      <td>NaN</td>\n",
       "    </tr>\n",
       "    <tr>\n",
       "      <th>425</th>\n",
       "      <td>NaN</td>\n",
       "      <td>NaN</td>\n",
       "      <td>NaN</td>\n",
       "      <td>NaN</td>\n",
       "      <td>NaN</td>\n",
       "      <td>NaN</td>\n",
       "      <td>NaN</td>\n",
       "      <td>NaN</td>\n",
       "      <td>NaN</td>\n",
       "      <td>NaN</td>\n",
       "      <td>...</td>\n",
       "      <td>NaN</td>\n",
       "      <td>NaN</td>\n",
       "      <td>0.100307</td>\n",
       "      <td>NaN</td>\n",
       "      <td>0.161345</td>\n",
       "      <td>NaN</td>\n",
       "      <td>0.371792</td>\n",
       "      <td>0.105233</td>\n",
       "      <td>0.143394</td>\n",
       "      <td>NaN</td>\n",
       "    </tr>\n",
       "    <tr>\n",
       "      <th>426</th>\n",
       "      <td>NaN</td>\n",
       "      <td>NaN</td>\n",
       "      <td>NaN</td>\n",
       "      <td>NaN</td>\n",
       "      <td>NaN</td>\n",
       "      <td>NaN</td>\n",
       "      <td>NaN</td>\n",
       "      <td>NaN</td>\n",
       "      <td>NaN</td>\n",
       "      <td>NaN</td>\n",
       "      <td>...</td>\n",
       "      <td>NaN</td>\n",
       "      <td>NaN</td>\n",
       "      <td>0.108512</td>\n",
       "      <td>NaN</td>\n",
       "      <td>0.152003</td>\n",
       "      <td>NaN</td>\n",
       "      <td>0.310051</td>\n",
       "      <td>0.107123</td>\n",
       "      <td>0.125354</td>\n",
       "      <td>NaN</td>\n",
       "    </tr>\n",
       "  </tbody>\n",
       "</table>\n",
       "<p>5 rows × 264 columns</p>\n",
       "</div>"
      ],
      "text/plain": [
       "     Wk_1_2014  Wk_2_2014  Wk_3_2014  Wk_4_2014  Wk_5_2014  Wk_6_2014  \\\n",
       "422        NaN        NaN        NaN        NaN        NaN        NaN   \n",
       "423        NaN        NaN        NaN        NaN        NaN        NaN   \n",
       "424        NaN        NaN        NaN        NaN        NaN        NaN   \n",
       "425        NaN        NaN        NaN        NaN        NaN        NaN   \n",
       "426        NaN        NaN        NaN        NaN        NaN        NaN   \n",
       "\n",
       "     Wk_7_2014  Wk_8_2014  Wk_9_2014  Wk_10_2014  ...  Wk_44_2018  Wk_45_2018  \\\n",
       "422        NaN        NaN        NaN         NaN  ...         NaN         NaN   \n",
       "423        NaN        NaN        NaN         NaN  ...         NaN         NaN   \n",
       "424        NaN        NaN        NaN         NaN  ...         NaN         NaN   \n",
       "425        NaN        NaN        NaN         NaN  ...         NaN         NaN   \n",
       "426        NaN        NaN        NaN         NaN  ...         NaN         NaN   \n",
       "\n",
       "     Wk_46_2018  Wk_47_2018  Wk_48_2018  Wk_49_2018  Wk_50_2018  Wk_51_2018  \\\n",
       "422    0.205000         NaN    0.184122         NaN    0.406391    0.136056   \n",
       "423         NaN         NaN    0.174868         NaN    0.405219    0.117110   \n",
       "424    0.090549         NaN    0.169360         NaN    0.396316    0.108810   \n",
       "425    0.100307         NaN    0.161345         NaN    0.371792    0.105233   \n",
       "426    0.108512         NaN    0.152003         NaN    0.310051    0.107123   \n",
       "\n",
       "     Wk_52_2018  Wk_53_2018  \n",
       "422    0.204676         NaN  \n",
       "423    0.197330         NaN  \n",
       "424    0.174159         NaN  \n",
       "425    0.143394         NaN  \n",
       "426    0.125354         NaN  \n",
       "\n",
       "[5 rows x 264 columns]"
      ]
     },
     "execution_count": 79,
     "metadata": {},
     "output_type": "execute_result"
    }
   ],
   "source": [
    "# remove rows with only NAs\n",
    "data.dropna(axis=0, how=\"all\", inplace=True)\n",
    "data.head()"
   ]
  },
  {
   "cell_type": "markdown",
   "metadata": {},
   "source": [
    "There are 2 options for LSTM data: using a time series of each individual cell's data, or using a time series of rasters. By row, the data is already formatted for the former.  \n",
    "As each column represents one raster time point, for the latter, we split the columns into rolling windows."
   ]
  },
  {
   "cell_type": "markdown",
   "metadata": {},
   "source": [
    "### Predicting whole rasters"
   ]
  },
  {
   "cell_type": "code",
   "execution_count": 89,
   "metadata": {},
   "outputs": [],
   "source": [
    "window_length = 10\n",
    "windows = np.empty((data.shape[1] - window_length, window_length, data.shape[0]))\n",
    "targets = np.empty((windows.shape[0], 1, data.shape[0]))"
   ]
  },
  {
   "cell_type": "code",
   "execution_count": 90,
   "metadata": {},
   "outputs": [
    {
     "name": "stderr",
     "output_type": "stream",
     "text": [
      "100%|██████████| 254/254 [00:00<00:00, 281.10it/s]\n"
     ]
    }
   ],
   "source": [
    "for i in tqdm(range(data.shape[1] - window_length)):\n",
    "    # missing values filled with -1 for now\n",
    "    windows[i, :, :] = np.array(data.iloc[:, i:(i + window_length)].fillna(-1)).transpose()\n",
    "    targets[i, :, :] = np.array(data.iloc[:, i + window_length].fillna(-1)).transpose().reshape(1, targets.shape[2])"
   ]
  },
  {
   "cell_type": "code",
   "execution_count": 91,
   "metadata": {},
   "outputs": [
    {
     "data": {
      "text/plain": [
       "True"
      ]
     },
     "execution_count": 91,
     "metadata": {},
     "output_type": "execute_result"
    }
   ],
   "source": [
    "# check whether targets assigned correctly\n",
    "all(windows[10, 0, :] == targets[0, 0, :])"
   ]
  },
  {
   "cell_type": "code",
   "execution_count": 224,
   "metadata": {},
   "outputs": [
    {
     "data": {
      "text/plain": [
       "True"
      ]
     },
     "execution_count": 224,
     "metadata": {},
     "output_type": "execute_result"
    }
   ],
   "source": [
    "# check whether window data assigned correctly\n",
    "all(windows[window_length, 0, :] == np.array(data.iloc[:, window_length].fillna(-1)))"
   ]
  },
  {
   "cell_type": "code",
   "execution_count": 93,
   "metadata": {},
   "outputs": [
    {
     "data": {
      "text/plain": [
       "(254, 10, 30310)"
      ]
     },
     "execution_count": 93,
     "metadata": {},
     "output_type": "execute_result"
    }
   ],
   "source": [
    "windows.shape # number of windows x window length x number of data points"
   ]
  },
  {
   "cell_type": "code",
   "execution_count": 94,
   "metadata": {},
   "outputs": [
    {
     "data": {
      "text/plain": [
       "(254, 1, 30310)"
      ]
     },
     "execution_count": 94,
     "metadata": {},
     "output_type": "execute_result"
    }
   ],
   "source": [
    "targets.shape"
   ]
  },
  {
   "cell_type": "code",
   "execution_count": 95,
   "metadata": {},
   "outputs": [],
   "source": [
    "model = Sequential()\n",
    "model.add(LSTM(window_length, input_shape=(window_length, windows.shape[2])))\n",
    "model.add(Dense(targets.shape[2]))\n",
    "model.compile(loss='mean_squared_error', optimizer='adam')"
   ]
  },
  {
   "cell_type": "code",
   "execution_count": 96,
   "metadata": {},
   "outputs": [
    {
     "name": "stdout",
     "output_type": "stream",
     "text": [
      "254/254 [==============================] - 8s 26ms/step - loss: 0.3406\n"
     ]
    },
    {
     "data": {
      "text/plain": [
       "<tensorflow.python.keras.callbacks.History at 0x7fa689376940>"
      ]
     },
     "execution_count": 96,
     "metadata": {},
     "output_type": "execute_result"
    }
   ],
   "source": [
    "model.fit(windows, targets, epochs=1, batch_size=1)"
   ]
  },
  {
   "cell_type": "code",
   "execution_count": 125,
   "metadata": {},
   "outputs": [],
   "source": [
    "test_data = np.array(data.iloc[:, window_length].fillna(-1))\n",
    "test_pred = model.predict(windows[0, :, :].reshape(1, window_length, 30310)).reshape(30310)"
   ]
  },
  {
   "cell_type": "code",
   "execution_count": 213,
   "metadata": {},
   "outputs": [],
   "source": [
    "# add back empty observations\n",
    "padded_data = np.full((59000), np.nan)\n",
    "padded_pred = np.full((59000), np.nan)\n",
    "padded_data[data.index] = np.where(test_data == -1, np.nan, test_data)\n",
    "padded_pred[data.index] = test_pred\n",
    "padded_data = padded_data.reshape(295, 200)\n",
    "padded_pred = padded_pred.reshape(295, 200)\n",
    "# padded_data = np.where(padded_data == -1, np.nan, padded_data)\n",
    "# padded_pred = np.where(padded_pred == -1, np.nan, padded_pred)"
   ]
  },
  {
   "cell_type": "code",
   "execution_count": 223,
   "metadata": {},
   "outputs": [
    {
     "data": {
      "image/png": "[encoded data removed]",
      "text/plain": [
       "<Figure size 1080x720 with 6 Axes>"
      ]
     },
     "metadata": {
      "needs_background": "light"
     },
     "output_type": "display_data"
    }
   ],
   "source": [
    "f, (ax1, ax2, ax3) = plt.subplots(1, 3, sharey=True, figsize=(15, 10))\n",
    "opts = {'vmin': -0.4, 'vmax': 0.6}\n",
    "im1 = ax1.imshow(padded_data, **opts) # test data\n",
    "plt.colorbar(im1, ax=ax1)\n",
    "im2 = ax2.imshow(padded_pred, **opts) # prediction\n",
    "plt.colorbar(im2, ax=ax2)\n",
    "im3 = ax3.imshow(padded_pred - padded_pred[~np.isnan(padded_pred)].min(), **opts) # prediction shifted st min is zero\n",
    "plt.colorbar(im3, ax=ax3)\n",
    "plt.show()"
   ]
  },
  {
   "cell_type": "code",
   "execution_count": 292,
   "metadata": {},
   "outputs": [
    {
     "data": {
      "text/html": [
       "<div>\n",
       "<style scoped>\n",
       "    .dataframe tbody tr th:only-of-type {\n",
       "        vertical-align: middle;\n",
       "    }\n",
       "\n",
       "    .dataframe tbody tr th {\n",
       "        vertical-align: top;\n",
       "    }\n",
       "\n",
       "    .dataframe thead th {\n",
       "        text-align: right;\n",
       "    }\n",
       "</style>\n",
       "<table border=\"1\" class=\"dataframe\">\n",
       "  <thead>\n",
       "    <tr style=\"text-align: right;\">\n",
       "      <th></th>\n",
       "      <th>0</th>\n",
       "      <th>0</th>\n",
       "    </tr>\n",
       "  </thead>\n",
       "  <tbody>\n",
       "    <tr>\n",
       "      <th>count</th>\n",
       "      <td>30310.000000</td>\n",
       "      <td>30310.000000</td>\n",
       "    </tr>\n",
       "    <tr>\n",
       "      <th>mean</th>\n",
       "      <td>-0.875477</td>\n",
       "      <td>-0.185916</td>\n",
       "    </tr>\n",
       "    <tr>\n",
       "      <th>std</th>\n",
       "      <td>0.363190</td>\n",
       "      <td>0.035619</td>\n",
       "    </tr>\n",
       "    <tr>\n",
       "      <th>min</th>\n",
       "      <td>-1.000000</td>\n",
       "      <td>-0.415555</td>\n",
       "    </tr>\n",
       "    <tr>\n",
       "      <th>25%</th>\n",
       "      <td>-1.000000</td>\n",
       "      <td>-0.213583</td>\n",
       "    </tr>\n",
       "    <tr>\n",
       "      <th>50%</th>\n",
       "      <td>-1.000000</td>\n",
       "      <td>-0.180272</td>\n",
       "    </tr>\n",
       "    <tr>\n",
       "      <th>75%</th>\n",
       "      <td>-1.000000</td>\n",
       "      <td>-0.157915</td>\n",
       "    </tr>\n",
       "    <tr>\n",
       "      <th>max</th>\n",
       "      <td>0.519000</td>\n",
       "      <td>-0.086403</td>\n",
       "    </tr>\n",
       "  </tbody>\n",
       "</table>\n",
       "</div>"
      ],
      "text/plain": [
       "                  0             0\n",
       "count  30310.000000  30310.000000\n",
       "mean      -0.875477     -0.185916\n",
       "std        0.363190      0.035619\n",
       "min       -1.000000     -0.415555\n",
       "25%       -1.000000     -0.213583\n",
       "50%       -1.000000     -0.180272\n",
       "75%       -1.000000     -0.157915\n",
       "max        0.519000     -0.086403"
      ]
     },
     "execution_count": 292,
     "metadata": {},
     "output_type": "execute_result"
    }
   ],
   "source": [
    "pd.concat([pd.DataFrame(test_data).describe(), pd.DataFrame(test_pred).describe()], axis=1)"
   ]
  },
  {
   "cell_type": "markdown",
   "metadata": {},
   "source": [
    "### Predicting individual cells  \n",
    "Generating individual cell predictions is much the same, but on a smaller scale. Instead of using few, large observations, we use many small observations, which may be easier for the model to fit."
   ]
  },
  {
   "cell_type": "code",
   "execution_count": 266,
   "metadata": {},
   "outputs": [],
   "source": [
    "def flattenArray(input):\n",
    "    \"\"\"\n",
    "    Reshapes raster time series into time series of individual cells.\n",
    "    \"\"\"\n",
    "    reshape = np.empty((input.shape[0] * input.shape[2], input.shape[1], 1))\n",
    "    for i in tqdm(range(input.shape[0])):\n",
    "        for j in range(input.shape[2]):\n",
    "            reshape[i * input.shape[2] + j, :, :] = input[i, :, j].reshape(input.shape[1], 1)\n",
    "    return reshape"
   ]
  },
  {
   "cell_type": "code",
   "execution_count": 265,
   "metadata": {},
   "outputs": [
    {
     "name": "stderr",
     "output_type": "stream",
     "text": [
      "100%|██████████| 254/254 [00:10<00:00, 23.96it/s]\n",
      "100%|██████████| 254/254 [00:09<00:00, 25.54it/s]\n"
     ]
    }
   ],
   "source": [
    "windows_flat = flattenArray(windows)\n",
    "targets_flat = flattenArray(targets)"
   ]
  },
  {
   "cell_type": "code",
   "execution_count": 300,
   "metadata": {},
   "outputs": [],
   "source": [
    "model_flat = Sequential()\n",
    "model_flat.add(LSTM(window_length, input_shape=(window_length, 1)))\n",
    "model_flat.add(Dense(1))\n",
    "model_flat.compile(loss='mean_squared_error', optimizer='adam')"
   ]
  },
  {
   "cell_type": "code",
   "execution_count": 301,
   "metadata": {},
   "outputs": [
    {
     "name": "stdout",
     "output_type": "stream",
     "text": [
      "15037/15037 [==============================] - 50s 3ms/step - loss: 0.2761\n"
     ]
    },
    {
     "data": {
      "text/plain": [
       "<tensorflow.python.keras.callbacks.History at 0x7fa3cb6dd5e0>"
      ]
     },
     "execution_count": 301,
     "metadata": {},
     "output_type": "execute_result"
    }
   ],
   "source": [
    "model_flat.fit(windows_flat, targets_flat, epochs=1, batch_size=512)"
   ]
  },
  {
   "cell_type": "code",
   "execution_count": 302,
   "metadata": {},
   "outputs": [],
   "source": [
    "test_pred_flat = model_flat.predict(windows_flat[:30310, :, :]).reshape(30310)"
   ]
  },
  {
   "cell_type": "code",
   "execution_count": 303,
   "metadata": {},
   "outputs": [],
   "source": [
    "padded_pred_flat = np.full((59000), np.nan)\n",
    "padded_pred_flat[data.index] = test_pred_flat\n",
    "padded_pred_flat = padded_pred_flat.reshape(295, 200)"
   ]
  },
  {
   "cell_type": "code",
   "execution_count": 304,
   "metadata": {},
   "outputs": [
    {
     "data": {
      "image/png": "[encoded data removed]",
      "text/plain": [
       "<Figure size 1080x720 with 6 Axes>"
      ]
     },
     "metadata": {
      "needs_background": "light"
     },
     "output_type": "display_data"
    }
   ],
   "source": [
    "f, (ax1, ax2, ax3) = plt.subplots(1, 3, sharey=True, figsize=(15, 10))\n",
    "opts = {'vmin': -1, 'vmax': 1}\n",
    "im1 = ax1.imshow(padded_data, **opts) # test data\n",
    "plt.colorbar(im1, ax=ax1)\n",
    "im2 = ax2.imshow(padded_pred_flat, **opts) # prediction\n",
    "plt.colorbar(im2, ax=ax2)\n",
    "im3 = ax3.imshow(padded_pred_flat - padded_pred_flat[~np.isnan(padded_pred_flat)].min(), **opts) # prediction shifted st min is zero\n",
    "plt.colorbar(im3, ax=ax3)\n",
    "plt.show()"
   ]
  },
  {
   "cell_type": "code",
   "execution_count": 305,
   "metadata": {},
   "outputs": [
    {
     "data": {
      "text/html": [
       "<div>\n",
       "<style scoped>\n",
       "    .dataframe tbody tr th:only-of-type {\n",
       "        vertical-align: middle;\n",
       "    }\n",
       "\n",
       "    .dataframe tbody tr th {\n",
       "        vertical-align: top;\n",
       "    }\n",
       "\n",
       "    .dataframe thead th {\n",
       "        text-align: right;\n",
       "    }\n",
       "</style>\n",
       "<table border=\"1\" class=\"dataframe\">\n",
       "  <thead>\n",
       "    <tr style=\"text-align: right;\">\n",
       "      <th></th>\n",
       "      <th>0</th>\n",
       "      <th>0</th>\n",
       "    </tr>\n",
       "  </thead>\n",
       "  <tbody>\n",
       "    <tr>\n",
       "      <th>count</th>\n",
       "      <td>30310.000000</td>\n",
       "      <td>30310.000000</td>\n",
       "    </tr>\n",
       "    <tr>\n",
       "      <th>mean</th>\n",
       "      <td>-0.875477</td>\n",
       "      <td>-0.535587</td>\n",
       "    </tr>\n",
       "    <tr>\n",
       "      <th>std</th>\n",
       "      <td>0.363190</td>\n",
       "      <td>0.053595</td>\n",
       "    </tr>\n",
       "    <tr>\n",
       "      <th>min</th>\n",
       "      <td>-1.000000</td>\n",
       "      <td>-0.911473</td>\n",
       "    </tr>\n",
       "    <tr>\n",
       "      <th>25%</th>\n",
       "      <td>-1.000000</td>\n",
       "      <td>-0.527345</td>\n",
       "    </tr>\n",
       "    <tr>\n",
       "      <th>50%</th>\n",
       "      <td>-1.000000</td>\n",
       "      <td>-0.527345</td>\n",
       "    </tr>\n",
       "    <tr>\n",
       "      <th>75%</th>\n",
       "      <td>-1.000000</td>\n",
       "      <td>-0.527345</td>\n",
       "    </tr>\n",
       "    <tr>\n",
       "      <th>max</th>\n",
       "      <td>0.519000</td>\n",
       "      <td>-0.168060</td>\n",
       "    </tr>\n",
       "  </tbody>\n",
       "</table>\n",
       "</div>"
      ],
      "text/plain": [
       "                  0             0\n",
       "count  30310.000000  30310.000000\n",
       "mean      -0.875477     -0.535587\n",
       "std        0.363190      0.053595\n",
       "min       -1.000000     -0.911473\n",
       "25%       -1.000000     -0.527345\n",
       "50%       -1.000000     -0.527345\n",
       "75%       -1.000000     -0.527345\n",
       "max        0.519000     -0.168060"
      ]
     },
     "execution_count": 305,
     "metadata": {},
     "output_type": "execute_result"
    }
   ],
   "source": [
    "pd.concat([pd.DataFrame(test_data).describe(), pd.DataFrame(test_pred_flat).describe()], axis=1)"
   ]
  }
 ],
 "metadata": {
  "kernelspec": {
   "display_name": "Python 3",
   "language": "python",
   "name": "python3"
  },
  "language_info": {
   "codemirror_mode": {
    "name": "ipython",
    "version": 3
   },
   "file_extension": ".py",
   "mimetype": "text/x-python",
   "name": "python",
   "nbconvert_exporter": "python",
   "pygments_lexer": "ipython3",
   "version": "3.8.5"
  }
 },
 "nbformat": 4,
 "nbformat_minor": 4
}
